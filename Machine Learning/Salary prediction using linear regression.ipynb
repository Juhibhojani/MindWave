{
 "cells": [
  {
   "cell_type": "markdown",
   "id": "bd96e1ba",
   "metadata": {},
   "source": [
    "# Employee Salary Prediction: Linear Regression "
   ]
  },
  {
   "cell_type": "markdown",
   "id": "1931fa69",
   "metadata": {},
   "source": [
    "### Importing Packages/libraries "
   ]
  },
  {
   "cell_type": "code",
   "execution_count": 4,
   "id": "a284ec83",
   "metadata": {},
   "outputs": [],
   "source": [
    "import pandas as pd\n",
    "import numpy as np\n",
    "import matplotlib.pyplot as plt\n",
    "import seaborn as sns"
   ]
  },
  {
   "cell_type": "markdown",
   "id": "24284b1b",
   "metadata": {},
   "source": [
    "### Read DataFile/ CSV file \n"
   ]
  },
  {
   "cell_type": "code",
   "execution_count": 5,
   "id": "5d44b79e",
   "metadata": {},
   "outputs": [
    {
     "data": {
      "text/html": [
       "<div>\n",
       "<style scoped>\n",
       "    .dataframe tbody tr th:only-of-type {\n",
       "        vertical-align: middle;\n",
       "    }\n",
       "\n",
       "    .dataframe tbody tr th {\n",
       "        vertical-align: top;\n",
       "    }\n",
       "\n",
       "    .dataframe thead th {\n",
       "        text-align: right;\n",
       "    }\n",
       "</style>\n",
       "<table border=\"1\" class=\"dataframe\">\n",
       "  <thead>\n",
       "    <tr style=\"text-align: right;\">\n",
       "      <th></th>\n",
       "      <th>Age</th>\n",
       "      <th>Gender</th>\n",
       "      <th>Education Level</th>\n",
       "      <th>Job Title</th>\n",
       "      <th>Years of Experience</th>\n",
       "      <th>Salary</th>\n",
       "    </tr>\n",
       "  </thead>\n",
       "  <tbody>\n",
       "    <tr>\n",
       "      <th>0</th>\n",
       "      <td>32.0</td>\n",
       "      <td>Male</td>\n",
       "      <td>Bachelor's</td>\n",
       "      <td>Software Engineer</td>\n",
       "      <td>5.0</td>\n",
       "      <td>90000.0</td>\n",
       "    </tr>\n",
       "    <tr>\n",
       "      <th>1</th>\n",
       "      <td>28.0</td>\n",
       "      <td>Female</td>\n",
       "      <td>Master's</td>\n",
       "      <td>Data Analyst</td>\n",
       "      <td>3.0</td>\n",
       "      <td>65000.0</td>\n",
       "    </tr>\n",
       "    <tr>\n",
       "      <th>2</th>\n",
       "      <td>45.0</td>\n",
       "      <td>Male</td>\n",
       "      <td>PhD</td>\n",
       "      <td>Senior Manager</td>\n",
       "      <td>15.0</td>\n",
       "      <td>150000.0</td>\n",
       "    </tr>\n",
       "    <tr>\n",
       "      <th>3</th>\n",
       "      <td>36.0</td>\n",
       "      <td>Female</td>\n",
       "      <td>Bachelor's</td>\n",
       "      <td>Sales Associate</td>\n",
       "      <td>7.0</td>\n",
       "      <td>60000.0</td>\n",
       "    </tr>\n",
       "    <tr>\n",
       "      <th>4</th>\n",
       "      <td>52.0</td>\n",
       "      <td>Male</td>\n",
       "      <td>Master's</td>\n",
       "      <td>Director</td>\n",
       "      <td>20.0</td>\n",
       "      <td>200000.0</td>\n",
       "    </tr>\n",
       "  </tbody>\n",
       "</table>\n",
       "</div>"
      ],
      "text/plain": [
       "    Age  Gender Education Level          Job Title  Years of Experience  \\\n",
       "0  32.0    Male      Bachelor's  Software Engineer                  5.0   \n",
       "1  28.0  Female        Master's       Data Analyst                  3.0   \n",
       "2  45.0    Male             PhD     Senior Manager                 15.0   \n",
       "3  36.0  Female      Bachelor's    Sales Associate                  7.0   \n",
       "4  52.0    Male        Master's           Director                 20.0   \n",
       "\n",
       "     Salary  \n",
       "0   90000.0  \n",
       "1   65000.0  \n",
       "2  150000.0  \n",
       "3   60000.0  \n",
       "4  200000.0  "
      ]
     },
     "execution_count": 5,
     "metadata": {},
     "output_type": "execute_result"
    }
   ],
   "source": [
    "sal_data = pd.read_csv ('Dataset09-Employee-salary-prediction.csv')\n",
    "sal_data.head()"
   ]
  },
  {
   "cell_type": "markdown",
   "id": "2d066e7b",
   "metadata": {},
   "source": [
    "# Data Cleaning"
   ]
  },
  {
   "cell_type": "markdown",
   "id": "beb6ea83",
   "metadata": {},
   "source": [
    "### Number of Rows and columns:\n"
   ]
  },
  {
   "cell_type": "markdown",
   "id": "96d76979",
   "metadata": {},
   "source": []
  },
  {
   "cell_type": "code",
   "execution_count": 6,
   "id": "3bf4f40c",
   "metadata": {},
   "outputs": [
    {
     "data": {
      "text/plain": [
       "(375, 6)"
      ]
     },
     "execution_count": 6,
     "metadata": {},
     "output_type": "execute_result"
    }
   ],
   "source": [
    "sal_data.shape"
   ]
  },
  {
   "cell_type": "markdown",
   "id": "b97ab9cf",
   "metadata": {},
   "source": [
    "### List of Columns"
   ]
  },
  {
   "cell_type": "code",
   "execution_count": 7,
   "id": "4bd7327a",
   "metadata": {},
   "outputs": [
    {
     "data": {
      "text/plain": [
       "Index(['Age', 'Gender', 'Education Level', 'Job Title', 'Years of Experience',\n",
       "       'Salary'],\n",
       "      dtype='object')"
      ]
     },
     "execution_count": 7,
     "metadata": {},
     "output_type": "execute_result"
    }
   ],
   "source": [
    "sal_data.columns"
   ]
  },
  {
   "cell_type": "markdown",
   "id": "0df7d34d",
   "metadata": {},
   "source": [
    "### Rename Columns\n"
   ]
  },
  {
   "cell_type": "code",
   "execution_count": 8,
   "id": "37db06b0",
   "metadata": {},
   "outputs": [],
   "source": [
    "sal_data.columns =['Age', 'Gender', 'Degree', 'Job_Title', 'Experience',\n",
    "       'Salary']"
   ]
  },
  {
   "cell_type": "markdown",
   "id": "6d6392e8",
   "metadata": {},
   "source": [
    "### Column Datatype"
   ]
  },
  {
   "cell_type": "code",
   "execution_count": 9,
   "id": "d3e0e694",
   "metadata": {},
   "outputs": [
    {
     "data": {
      "text/plain": [
       "Age           float64\n",
       "Gender         object\n",
       "Degree         object\n",
       "Job_Title      object\n",
       "Experience    float64\n",
       "Salary        float64\n",
       "dtype: object"
      ]
     },
     "execution_count": 9,
     "metadata": {},
     "output_type": "execute_result"
    }
   ],
   "source": [
    "sal_data.dtypes"
   ]
  },
  {
   "cell_type": "markdown",
   "id": "597cfe06",
   "metadata": {},
   "source": [
    "### Information Of dataset"
   ]
  },
  {
   "cell_type": "code",
   "execution_count": 10,
   "id": "4e9a3270",
   "metadata": {},
   "outputs": [
    {
     "name": "stdout",
     "output_type": "stream",
     "text": [
      "<class 'pandas.core.frame.DataFrame'>\n",
      "RangeIndex: 375 entries, 0 to 374\n",
      "Data columns (total 6 columns):\n",
      " #   Column      Non-Null Count  Dtype  \n",
      "---  ------      --------------  -----  \n",
      " 0   Age         373 non-null    float64\n",
      " 1   Gender      373 non-null    object \n",
      " 2   Degree      373 non-null    object \n",
      " 3   Job_Title   373 non-null    object \n",
      " 4   Experience  373 non-null    float64\n",
      " 5   Salary      373 non-null    float64\n",
      "dtypes: float64(3), object(3)\n",
      "memory usage: 17.7+ KB\n"
     ]
    }
   ],
   "source": [
    "sal_data.info()"
   ]
  },
  {
   "cell_type": "markdown",
   "id": "9436937b",
   "metadata": {},
   "source": [
    "### Finding Duplicate records in data"
   ]
  },
  {
   "cell_type": "code",
   "execution_count": 11,
   "id": "bbd6f873",
   "metadata": {},
   "outputs": [
    {
     "data": {
      "text/html": [
       "<div>\n",
       "<style scoped>\n",
       "    .dataframe tbody tr th:only-of-type {\n",
       "        vertical-align: middle;\n",
       "    }\n",
       "\n",
       "    .dataframe tbody tr th {\n",
       "        vertical-align: top;\n",
       "    }\n",
       "\n",
       "    .dataframe thead th {\n",
       "        text-align: right;\n",
       "    }\n",
       "</style>\n",
       "<table border=\"1\" class=\"dataframe\">\n",
       "  <thead>\n",
       "    <tr style=\"text-align: right;\">\n",
       "      <th></th>\n",
       "      <th>Age</th>\n",
       "      <th>Gender</th>\n",
       "      <th>Degree</th>\n",
       "      <th>Job_Title</th>\n",
       "      <th>Experience</th>\n",
       "      <th>Salary</th>\n",
       "    </tr>\n",
       "  </thead>\n",
       "  <tbody>\n",
       "    <tr>\n",
       "      <th>195</th>\n",
       "      <td>28.0</td>\n",
       "      <td>Male</td>\n",
       "      <td>Bachelor's</td>\n",
       "      <td>Junior Business Analyst</td>\n",
       "      <td>2.0</td>\n",
       "      <td>40000.0</td>\n",
       "    </tr>\n",
       "    <tr>\n",
       "      <th>250</th>\n",
       "      <td>30.0</td>\n",
       "      <td>Female</td>\n",
       "      <td>Bachelor's</td>\n",
       "      <td>Junior Marketing Coordinator</td>\n",
       "      <td>2.0</td>\n",
       "      <td>40000.0</td>\n",
       "    </tr>\n",
       "    <tr>\n",
       "      <th>251</th>\n",
       "      <td>38.0</td>\n",
       "      <td>Male</td>\n",
       "      <td>Master's</td>\n",
       "      <td>Senior IT Consultant</td>\n",
       "      <td>9.0</td>\n",
       "      <td>110000.0</td>\n",
       "    </tr>\n",
       "    <tr>\n",
       "      <th>252</th>\n",
       "      <td>45.0</td>\n",
       "      <td>Female</td>\n",
       "      <td>PhD</td>\n",
       "      <td>Senior Product Designer</td>\n",
       "      <td>15.0</td>\n",
       "      <td>150000.0</td>\n",
       "    </tr>\n",
       "    <tr>\n",
       "      <th>253</th>\n",
       "      <td>28.0</td>\n",
       "      <td>Male</td>\n",
       "      <td>Bachelor's</td>\n",
       "      <td>Junior Business Development Associate</td>\n",
       "      <td>2.0</td>\n",
       "      <td>40000.0</td>\n",
       "    </tr>\n",
       "    <tr>\n",
       "      <th>254</th>\n",
       "      <td>35.0</td>\n",
       "      <td>Female</td>\n",
       "      <td>Bachelor's</td>\n",
       "      <td>Senior Marketing Analyst</td>\n",
       "      <td>8.0</td>\n",
       "      <td>85000.0</td>\n",
       "    </tr>\n",
       "    <tr>\n",
       "      <th>255</th>\n",
       "      <td>44.0</td>\n",
       "      <td>Male</td>\n",
       "      <td>Bachelor's</td>\n",
       "      <td>Senior Software Engineer</td>\n",
       "      <td>14.0</td>\n",
       "      <td>130000.0</td>\n",
       "    </tr>\n",
       "    <tr>\n",
       "      <th>256</th>\n",
       "      <td>34.0</td>\n",
       "      <td>Female</td>\n",
       "      <td>Master's</td>\n",
       "      <td>Senior Financial Advisor</td>\n",
       "      <td>6.0</td>\n",
       "      <td>100000.0</td>\n",
       "    </tr>\n",
       "    <tr>\n",
       "      <th>257</th>\n",
       "      <td>35.0</td>\n",
       "      <td>Male</td>\n",
       "      <td>Bachelor's</td>\n",
       "      <td>Senior Project Coordinator</td>\n",
       "      <td>9.0</td>\n",
       "      <td>95000.0</td>\n",
       "    </tr>\n",
       "    <tr>\n",
       "      <th>258</th>\n",
       "      <td>50.0</td>\n",
       "      <td>Female</td>\n",
       "      <td>PhD</td>\n",
       "      <td>Director of Operations</td>\n",
       "      <td>22.0</td>\n",
       "      <td>180000.0</td>\n",
       "    </tr>\n",
       "    <tr>\n",
       "      <th>260</th>\n",
       "      <td>NaN</td>\n",
       "      <td>NaN</td>\n",
       "      <td>NaN</td>\n",
       "      <td>NaN</td>\n",
       "      <td>NaN</td>\n",
       "      <td>NaN</td>\n",
       "    </tr>\n",
       "    <tr>\n",
       "      <th>262</th>\n",
       "      <td>46.0</td>\n",
       "      <td>Male</td>\n",
       "      <td>PhD</td>\n",
       "      <td>Senior Data Scientist</td>\n",
       "      <td>18.0</td>\n",
       "      <td>160000.0</td>\n",
       "    </tr>\n",
       "    <tr>\n",
       "      <th>281</th>\n",
       "      <td>41.0</td>\n",
       "      <td>Female</td>\n",
       "      <td>Bachelor's</td>\n",
       "      <td>Senior Project Coordinator</td>\n",
       "      <td>11.0</td>\n",
       "      <td>95000.0</td>\n",
       "    </tr>\n",
       "    <tr>\n",
       "      <th>287</th>\n",
       "      <td>35.0</td>\n",
       "      <td>Female</td>\n",
       "      <td>Bachelor's</td>\n",
       "      <td>Senior Marketing Analyst</td>\n",
       "      <td>8.0</td>\n",
       "      <td>85000.0</td>\n",
       "    </tr>\n",
       "    <tr>\n",
       "      <th>303</th>\n",
       "      <td>45.0</td>\n",
       "      <td>Male</td>\n",
       "      <td>PhD</td>\n",
       "      <td>Senior Data Engineer</td>\n",
       "      <td>16.0</td>\n",
       "      <td>150000.0</td>\n",
       "    </tr>\n",
       "    <tr>\n",
       "      <th>306</th>\n",
       "      <td>49.0</td>\n",
       "      <td>Female</td>\n",
       "      <td>Master's</td>\n",
       "      <td>Director of Marketing</td>\n",
       "      <td>21.0</td>\n",
       "      <td>180000.0</td>\n",
       "    </tr>\n",
       "    <tr>\n",
       "      <th>307</th>\n",
       "      <td>31.0</td>\n",
       "      <td>Male</td>\n",
       "      <td>Bachelor's</td>\n",
       "      <td>Junior Operations Analyst</td>\n",
       "      <td>3.0</td>\n",
       "      <td>50000.0</td>\n",
       "    </tr>\n",
       "    <tr>\n",
       "      <th>309</th>\n",
       "      <td>47.0</td>\n",
       "      <td>Male</td>\n",
       "      <td>Master's</td>\n",
       "      <td>Director of Marketing</td>\n",
       "      <td>19.0</td>\n",
       "      <td>170000.0</td>\n",
       "    </tr>\n",
       "    <tr>\n",
       "      <th>310</th>\n",
       "      <td>29.0</td>\n",
       "      <td>Female</td>\n",
       "      <td>Bachelor's</td>\n",
       "      <td>Junior Business Development Associate</td>\n",
       "      <td>1.5</td>\n",
       "      <td>35000.0</td>\n",
       "    </tr>\n",
       "    <tr>\n",
       "      <th>311</th>\n",
       "      <td>35.0</td>\n",
       "      <td>Male</td>\n",
       "      <td>Bachelor's</td>\n",
       "      <td>Senior Financial Manager</td>\n",
       "      <td>9.0</td>\n",
       "      <td>100000.0</td>\n",
       "    </tr>\n",
       "    <tr>\n",
       "      <th>312</th>\n",
       "      <td>44.0</td>\n",
       "      <td>Female</td>\n",
       "      <td>PhD</td>\n",
       "      <td>Senior Product Designer</td>\n",
       "      <td>15.0</td>\n",
       "      <td>150000.0</td>\n",
       "    </tr>\n",
       "    <tr>\n",
       "      <th>313</th>\n",
       "      <td>33.0</td>\n",
       "      <td>Male</td>\n",
       "      <td>Bachelor's</td>\n",
       "      <td>Junior Business Analyst</td>\n",
       "      <td>4.0</td>\n",
       "      <td>60000.0</td>\n",
       "    </tr>\n",
       "    <tr>\n",
       "      <th>314</th>\n",
       "      <td>35.0</td>\n",
       "      <td>Female</td>\n",
       "      <td>Bachelor's</td>\n",
       "      <td>Senior Marketing Analyst</td>\n",
       "      <td>8.0</td>\n",
       "      <td>85000.0</td>\n",
       "    </tr>\n",
       "    <tr>\n",
       "      <th>315</th>\n",
       "      <td>44.0</td>\n",
       "      <td>Male</td>\n",
       "      <td>Bachelor's</td>\n",
       "      <td>Senior Software Engineer</td>\n",
       "      <td>13.0</td>\n",
       "      <td>130000.0</td>\n",
       "    </tr>\n",
       "    <tr>\n",
       "      <th>317</th>\n",
       "      <td>36.0</td>\n",
       "      <td>Male</td>\n",
       "      <td>Bachelor's</td>\n",
       "      <td>Senior Marketing Specialist</td>\n",
       "      <td>8.0</td>\n",
       "      <td>95000.0</td>\n",
       "    </tr>\n",
       "    <tr>\n",
       "      <th>328</th>\n",
       "      <td>38.0</td>\n",
       "      <td>Female</td>\n",
       "      <td>Bachelor's</td>\n",
       "      <td>Senior Business Analyst</td>\n",
       "      <td>10.0</td>\n",
       "      <td>110000.0</td>\n",
       "    </tr>\n",
       "    <tr>\n",
       "      <th>345</th>\n",
       "      <td>33.0</td>\n",
       "      <td>Male</td>\n",
       "      <td>Bachelor's</td>\n",
       "      <td>Junior Business Analyst</td>\n",
       "      <td>4.0</td>\n",
       "      <td>60000.0</td>\n",
       "    </tr>\n",
       "    <tr>\n",
       "      <th>346</th>\n",
       "      <td>35.0</td>\n",
       "      <td>Female</td>\n",
       "      <td>Bachelor's</td>\n",
       "      <td>Senior Marketing Analyst</td>\n",
       "      <td>8.0</td>\n",
       "      <td>85000.0</td>\n",
       "    </tr>\n",
       "    <tr>\n",
       "      <th>352</th>\n",
       "      <td>38.0</td>\n",
       "      <td>Female</td>\n",
       "      <td>Bachelor's</td>\n",
       "      <td>Senior Business Analyst</td>\n",
       "      <td>10.0</td>\n",
       "      <td>110000.0</td>\n",
       "    </tr>\n",
       "    <tr>\n",
       "      <th>353</th>\n",
       "      <td>48.0</td>\n",
       "      <td>Male</td>\n",
       "      <td>Master's</td>\n",
       "      <td>Director of Marketing</td>\n",
       "      <td>21.0</td>\n",
       "      <td>180000.0</td>\n",
       "    </tr>\n",
       "    <tr>\n",
       "      <th>354</th>\n",
       "      <td>31.0</td>\n",
       "      <td>Female</td>\n",
       "      <td>Bachelor's</td>\n",
       "      <td>Junior Business Development Associate</td>\n",
       "      <td>3.0</td>\n",
       "      <td>50000.0</td>\n",
       "    </tr>\n",
       "    <tr>\n",
       "      <th>355</th>\n",
       "      <td>40.0</td>\n",
       "      <td>Male</td>\n",
       "      <td>Bachelor's</td>\n",
       "      <td>Senior Financial Analyst</td>\n",
       "      <td>12.0</td>\n",
       "      <td>130000.0</td>\n",
       "    </tr>\n",
       "    <tr>\n",
       "      <th>356</th>\n",
       "      <td>45.0</td>\n",
       "      <td>Female</td>\n",
       "      <td>PhD</td>\n",
       "      <td>Senior UX Designer</td>\n",
       "      <td>16.0</td>\n",
       "      <td>160000.0</td>\n",
       "    </tr>\n",
       "    <tr>\n",
       "      <th>357</th>\n",
       "      <td>33.0</td>\n",
       "      <td>Male</td>\n",
       "      <td>Bachelor's</td>\n",
       "      <td>Junior Product Manager</td>\n",
       "      <td>4.0</td>\n",
       "      <td>60000.0</td>\n",
       "    </tr>\n",
       "    <tr>\n",
       "      <th>358</th>\n",
       "      <td>36.0</td>\n",
       "      <td>Female</td>\n",
       "      <td>Bachelor's</td>\n",
       "      <td>Senior Marketing Manager</td>\n",
       "      <td>8.0</td>\n",
       "      <td>95000.0</td>\n",
       "    </tr>\n",
       "    <tr>\n",
       "      <th>359</th>\n",
       "      <td>47.0</td>\n",
       "      <td>Male</td>\n",
       "      <td>Master's</td>\n",
       "      <td>Director of Operations</td>\n",
       "      <td>19.0</td>\n",
       "      <td>170000.0</td>\n",
       "    </tr>\n",
       "    <tr>\n",
       "      <th>360</th>\n",
       "      <td>29.0</td>\n",
       "      <td>Female</td>\n",
       "      <td>Bachelor's</td>\n",
       "      <td>Junior Project Manager</td>\n",
       "      <td>2.0</td>\n",
       "      <td>40000.0</td>\n",
       "    </tr>\n",
       "    <tr>\n",
       "      <th>361</th>\n",
       "      <td>34.0</td>\n",
       "      <td>Male</td>\n",
       "      <td>Bachelor's</td>\n",
       "      <td>Senior Operations Coordinator</td>\n",
       "      <td>7.0</td>\n",
       "      <td>90000.0</td>\n",
       "    </tr>\n",
       "    <tr>\n",
       "      <th>362</th>\n",
       "      <td>44.0</td>\n",
       "      <td>Female</td>\n",
       "      <td>PhD</td>\n",
       "      <td>Senior Business Analyst</td>\n",
       "      <td>15.0</td>\n",
       "      <td>150000.0</td>\n",
       "    </tr>\n",
       "    <tr>\n",
       "      <th>363</th>\n",
       "      <td>33.0</td>\n",
       "      <td>Male</td>\n",
       "      <td>Bachelor's</td>\n",
       "      <td>Junior Marketing Specialist</td>\n",
       "      <td>5.0</td>\n",
       "      <td>70000.0</td>\n",
       "    </tr>\n",
       "    <tr>\n",
       "      <th>364</th>\n",
       "      <td>35.0</td>\n",
       "      <td>Female</td>\n",
       "      <td>Bachelor's</td>\n",
       "      <td>Senior Financial Manager</td>\n",
       "      <td>8.0</td>\n",
       "      <td>90000.0</td>\n",
       "    </tr>\n",
       "    <tr>\n",
       "      <th>365</th>\n",
       "      <td>43.0</td>\n",
       "      <td>Male</td>\n",
       "      <td>Master's</td>\n",
       "      <td>Director of Marketing</td>\n",
       "      <td>18.0</td>\n",
       "      <td>170000.0</td>\n",
       "    </tr>\n",
       "    <tr>\n",
       "      <th>366</th>\n",
       "      <td>31.0</td>\n",
       "      <td>Female</td>\n",
       "      <td>Bachelor's</td>\n",
       "      <td>Junior Financial Analyst</td>\n",
       "      <td>3.0</td>\n",
       "      <td>50000.0</td>\n",
       "    </tr>\n",
       "    <tr>\n",
       "      <th>367</th>\n",
       "      <td>41.0</td>\n",
       "      <td>Male</td>\n",
       "      <td>Bachelor's</td>\n",
       "      <td>Senior Product Manager</td>\n",
       "      <td>14.0</td>\n",
       "      <td>150000.0</td>\n",
       "    </tr>\n",
       "    <tr>\n",
       "      <th>368</th>\n",
       "      <td>44.0</td>\n",
       "      <td>Female</td>\n",
       "      <td>PhD</td>\n",
       "      <td>Senior Data Engineer</td>\n",
       "      <td>16.0</td>\n",
       "      <td>160000.0</td>\n",
       "    </tr>\n",
       "    <tr>\n",
       "      <th>369</th>\n",
       "      <td>33.0</td>\n",
       "      <td>Male</td>\n",
       "      <td>Bachelor's</td>\n",
       "      <td>Junior Business Analyst</td>\n",
       "      <td>4.0</td>\n",
       "      <td>60000.0</td>\n",
       "    </tr>\n",
       "    <tr>\n",
       "      <th>370</th>\n",
       "      <td>35.0</td>\n",
       "      <td>Female</td>\n",
       "      <td>Bachelor's</td>\n",
       "      <td>Senior Marketing Analyst</td>\n",
       "      <td>8.0</td>\n",
       "      <td>85000.0</td>\n",
       "    </tr>\n",
       "    <tr>\n",
       "      <th>372</th>\n",
       "      <td>29.0</td>\n",
       "      <td>Female</td>\n",
       "      <td>Bachelor's</td>\n",
       "      <td>Junior Project Manager</td>\n",
       "      <td>2.0</td>\n",
       "      <td>40000.0</td>\n",
       "    </tr>\n",
       "    <tr>\n",
       "      <th>373</th>\n",
       "      <td>34.0</td>\n",
       "      <td>Male</td>\n",
       "      <td>Bachelor's</td>\n",
       "      <td>Senior Operations Coordinator</td>\n",
       "      <td>7.0</td>\n",
       "      <td>90000.0</td>\n",
       "    </tr>\n",
       "    <tr>\n",
       "      <th>374</th>\n",
       "      <td>44.0</td>\n",
       "      <td>Female</td>\n",
       "      <td>PhD</td>\n",
       "      <td>Senior Business Analyst</td>\n",
       "      <td>15.0</td>\n",
       "      <td>150000.0</td>\n",
       "    </tr>\n",
       "  </tbody>\n",
       "</table>\n",
       "</div>"
      ],
      "text/plain": [
       "      Age  Gender      Degree                              Job_Title  \\\n",
       "195  28.0    Male  Bachelor's                Junior Business Analyst   \n",
       "250  30.0  Female  Bachelor's           Junior Marketing Coordinator   \n",
       "251  38.0    Male    Master's                   Senior IT Consultant   \n",
       "252  45.0  Female         PhD                Senior Product Designer   \n",
       "253  28.0    Male  Bachelor's  Junior Business Development Associate   \n",
       "254  35.0  Female  Bachelor's               Senior Marketing Analyst   \n",
       "255  44.0    Male  Bachelor's               Senior Software Engineer   \n",
       "256  34.0  Female    Master's               Senior Financial Advisor   \n",
       "257  35.0    Male  Bachelor's             Senior Project Coordinator   \n",
       "258  50.0  Female         PhD                 Director of Operations   \n",
       "260   NaN     NaN         NaN                                    NaN   \n",
       "262  46.0    Male         PhD                  Senior Data Scientist   \n",
       "281  41.0  Female  Bachelor's             Senior Project Coordinator   \n",
       "287  35.0  Female  Bachelor's               Senior Marketing Analyst   \n",
       "303  45.0    Male         PhD                   Senior Data Engineer   \n",
       "306  49.0  Female    Master's                  Director of Marketing   \n",
       "307  31.0    Male  Bachelor's              Junior Operations Analyst   \n",
       "309  47.0    Male    Master's                  Director of Marketing   \n",
       "310  29.0  Female  Bachelor's  Junior Business Development Associate   \n",
       "311  35.0    Male  Bachelor's               Senior Financial Manager   \n",
       "312  44.0  Female         PhD                Senior Product Designer   \n",
       "313  33.0    Male  Bachelor's                Junior Business Analyst   \n",
       "314  35.0  Female  Bachelor's               Senior Marketing Analyst   \n",
       "315  44.0    Male  Bachelor's               Senior Software Engineer   \n",
       "317  36.0    Male  Bachelor's            Senior Marketing Specialist   \n",
       "328  38.0  Female  Bachelor's                Senior Business Analyst   \n",
       "345  33.0    Male  Bachelor's                Junior Business Analyst   \n",
       "346  35.0  Female  Bachelor's               Senior Marketing Analyst   \n",
       "352  38.0  Female  Bachelor's                Senior Business Analyst   \n",
       "353  48.0    Male    Master's                  Director of Marketing   \n",
       "354  31.0  Female  Bachelor's  Junior Business Development Associate   \n",
       "355  40.0    Male  Bachelor's               Senior Financial Analyst   \n",
       "356  45.0  Female         PhD                     Senior UX Designer   \n",
       "357  33.0    Male  Bachelor's                 Junior Product Manager   \n",
       "358  36.0  Female  Bachelor's               Senior Marketing Manager   \n",
       "359  47.0    Male    Master's                 Director of Operations   \n",
       "360  29.0  Female  Bachelor's                 Junior Project Manager   \n",
       "361  34.0    Male  Bachelor's          Senior Operations Coordinator   \n",
       "362  44.0  Female         PhD                Senior Business Analyst   \n",
       "363  33.0    Male  Bachelor's            Junior Marketing Specialist   \n",
       "364  35.0  Female  Bachelor's               Senior Financial Manager   \n",
       "365  43.0    Male    Master's                  Director of Marketing   \n",
       "366  31.0  Female  Bachelor's               Junior Financial Analyst   \n",
       "367  41.0    Male  Bachelor's                 Senior Product Manager   \n",
       "368  44.0  Female         PhD                   Senior Data Engineer   \n",
       "369  33.0    Male  Bachelor's                Junior Business Analyst   \n",
       "370  35.0  Female  Bachelor's               Senior Marketing Analyst   \n",
       "372  29.0  Female  Bachelor's                 Junior Project Manager   \n",
       "373  34.0    Male  Bachelor's          Senior Operations Coordinator   \n",
       "374  44.0  Female         PhD                Senior Business Analyst   \n",
       "\n",
       "     Experience    Salary  \n",
       "195         2.0   40000.0  \n",
       "250         2.0   40000.0  \n",
       "251         9.0  110000.0  \n",
       "252        15.0  150000.0  \n",
       "253         2.0   40000.0  \n",
       "254         8.0   85000.0  \n",
       "255        14.0  130000.0  \n",
       "256         6.0  100000.0  \n",
       "257         9.0   95000.0  \n",
       "258        22.0  180000.0  \n",
       "260         NaN       NaN  \n",
       "262        18.0  160000.0  \n",
       "281        11.0   95000.0  \n",
       "287         8.0   85000.0  \n",
       "303        16.0  150000.0  \n",
       "306        21.0  180000.0  \n",
       "307         3.0   50000.0  \n",
       "309        19.0  170000.0  \n",
       "310         1.5   35000.0  \n",
       "311         9.0  100000.0  \n",
       "312        15.0  150000.0  \n",
       "313         4.0   60000.0  \n",
       "314         8.0   85000.0  \n",
       "315        13.0  130000.0  \n",
       "317         8.0   95000.0  \n",
       "328        10.0  110000.0  \n",
       "345         4.0   60000.0  \n",
       "346         8.0   85000.0  \n",
       "352        10.0  110000.0  \n",
       "353        21.0  180000.0  \n",
       "354         3.0   50000.0  \n",
       "355        12.0  130000.0  \n",
       "356        16.0  160000.0  \n",
       "357         4.0   60000.0  \n",
       "358         8.0   95000.0  \n",
       "359        19.0  170000.0  \n",
       "360         2.0   40000.0  \n",
       "361         7.0   90000.0  \n",
       "362        15.0  150000.0  \n",
       "363         5.0   70000.0  \n",
       "364         8.0   90000.0  \n",
       "365        18.0  170000.0  \n",
       "366         3.0   50000.0  \n",
       "367        14.0  150000.0  \n",
       "368        16.0  160000.0  \n",
       "369         4.0   60000.0  \n",
       "370         8.0   85000.0  \n",
       "372         2.0   40000.0  \n",
       "373         7.0   90000.0  \n",
       "374        15.0  150000.0  "
      ]
     },
     "execution_count": 11,
     "metadata": {},
     "output_type": "execute_result"
    }
   ],
   "source": [
    "sal_data[sal_data.duplicated()]"
   ]
  },
  {
   "cell_type": "markdown",
   "id": "7c68b0f9",
   "metadata": {},
   "source": [
    "### Dropping Duplicates data "
   ]
  },
  {
   "cell_type": "code",
   "execution_count": 12,
   "id": "add9f5b4",
   "metadata": {},
   "outputs": [],
   "source": [
    "sal_data1 = sal_data.drop_duplicates(keep ='first')"
   ]
  },
  {
   "cell_type": "code",
   "execution_count": 13,
   "id": "fd5e1aae",
   "metadata": {},
   "outputs": [
    {
     "data": {
      "text/plain": [
       "Age           2\n",
       "Gender        2\n",
       "Degree        2\n",
       "Job_Title     2\n",
       "Experience    2\n",
       "Salary        2\n",
       "dtype: int64"
      ]
     },
     "execution_count": 13,
     "metadata": {},
     "output_type": "execute_result"
    }
   ],
   "source": [
    "sal_data.isnull().sum()"
   ]
  },
  {
   "cell_type": "code",
   "execution_count": 14,
   "id": "65e340ee",
   "metadata": {},
   "outputs": [
    {
     "name": "stderr",
     "output_type": "stream",
     "text": [
      "C:\\Users\\PRIYA LANDGE\\AppData\\Local\\Temp\\ipykernel_22216\\1161033418.py:1: SettingWithCopyWarning: \n",
      "A value is trying to be set on a copy of a slice from a DataFrame\n",
      "\n",
      "See the caveats in the documentation: https://pandas.pydata.org/pandas-docs/stable/user_guide/indexing.html#returning-a-view-versus-a-copy\n",
      "  sal_data1.dropna(how ='any', inplace = True)\n"
     ]
    }
   ],
   "source": [
    "sal_data1.dropna(how ='any', inplace = True)"
   ]
  },
  {
   "cell_type": "code",
   "execution_count": 15,
   "id": "669e5683",
   "metadata": {},
   "outputs": [
    {
     "data": {
      "text/plain": [
       "(324, 6)"
      ]
     },
     "execution_count": 15,
     "metadata": {},
     "output_type": "execute_result"
    }
   ],
   "source": [
    "sal_data1.shape"
   ]
  },
  {
   "cell_type": "code",
   "execution_count": 16,
   "id": "1da0d65e",
   "metadata": {},
   "outputs": [
    {
     "data": {
      "text/html": [
       "<div>\n",
       "<style scoped>\n",
       "    .dataframe tbody tr th:only-of-type {\n",
       "        vertical-align: middle;\n",
       "    }\n",
       "\n",
       "    .dataframe tbody tr th {\n",
       "        vertical-align: top;\n",
       "    }\n",
       "\n",
       "    .dataframe thead th {\n",
       "        text-align: right;\n",
       "    }\n",
       "</style>\n",
       "<table border=\"1\" class=\"dataframe\">\n",
       "  <thead>\n",
       "    <tr style=\"text-align: right;\">\n",
       "      <th></th>\n",
       "      <th>Age</th>\n",
       "      <th>Experience</th>\n",
       "      <th>Salary</th>\n",
       "    </tr>\n",
       "  </thead>\n",
       "  <tbody>\n",
       "    <tr>\n",
       "      <th>count</th>\n",
       "      <td>324.000000</td>\n",
       "      <td>324.000000</td>\n",
       "      <td>324.000000</td>\n",
       "    </tr>\n",
       "    <tr>\n",
       "      <th>mean</th>\n",
       "      <td>37.382716</td>\n",
       "      <td>10.058642</td>\n",
       "      <td>99985.648148</td>\n",
       "    </tr>\n",
       "    <tr>\n",
       "      <th>std</th>\n",
       "      <td>7.185844</td>\n",
       "      <td>6.650470</td>\n",
       "      <td>48652.271440</td>\n",
       "    </tr>\n",
       "    <tr>\n",
       "      <th>min</th>\n",
       "      <td>23.000000</td>\n",
       "      <td>0.000000</td>\n",
       "      <td>350.000000</td>\n",
       "    </tr>\n",
       "    <tr>\n",
       "      <th>25%</th>\n",
       "      <td>31.000000</td>\n",
       "      <td>4.000000</td>\n",
       "      <td>55000.000000</td>\n",
       "    </tr>\n",
       "    <tr>\n",
       "      <th>50%</th>\n",
       "      <td>36.500000</td>\n",
       "      <td>9.000000</td>\n",
       "      <td>95000.000000</td>\n",
       "    </tr>\n",
       "    <tr>\n",
       "      <th>75%</th>\n",
       "      <td>44.000000</td>\n",
       "      <td>16.000000</td>\n",
       "      <td>140000.000000</td>\n",
       "    </tr>\n",
       "    <tr>\n",
       "      <th>max</th>\n",
       "      <td>53.000000</td>\n",
       "      <td>25.000000</td>\n",
       "      <td>250000.000000</td>\n",
       "    </tr>\n",
       "  </tbody>\n",
       "</table>\n",
       "</div>"
      ],
      "text/plain": [
       "              Age  Experience         Salary\n",
       "count  324.000000  324.000000     324.000000\n",
       "mean    37.382716   10.058642   99985.648148\n",
       "std      7.185844    6.650470   48652.271440\n",
       "min     23.000000    0.000000     350.000000\n",
       "25%     31.000000    4.000000   55000.000000\n",
       "50%     36.500000    9.000000   95000.000000\n",
       "75%     44.000000   16.000000  140000.000000\n",
       "max     53.000000   25.000000  250000.000000"
      ]
     },
     "execution_count": 16,
     "metadata": {},
     "output_type": "execute_result"
    }
   ],
   "source": [
    "sal_data1.describe()"
   ]
  },
  {
   "cell_type": "code",
   "execution_count": 17,
   "id": "8d574467",
   "metadata": {},
   "outputs": [
    {
     "data": {
      "text/html": [
       "<div>\n",
       "<style scoped>\n",
       "    .dataframe tbody tr th:only-of-type {\n",
       "        vertical-align: middle;\n",
       "    }\n",
       "\n",
       "    .dataframe tbody tr th {\n",
       "        vertical-align: top;\n",
       "    }\n",
       "\n",
       "    .dataframe thead th {\n",
       "        text-align: right;\n",
       "    }\n",
       "</style>\n",
       "<table border=\"1\" class=\"dataframe\">\n",
       "  <thead>\n",
       "    <tr style=\"text-align: right;\">\n",
       "      <th></th>\n",
       "      <th>Age</th>\n",
       "      <th>Experience</th>\n",
       "      <th>Salary</th>\n",
       "    </tr>\n",
       "  </thead>\n",
       "  <tbody>\n",
       "    <tr>\n",
       "      <th>Age</th>\n",
       "      <td>1.000000</td>\n",
       "      <td>0.979192</td>\n",
       "      <td>0.916543</td>\n",
       "    </tr>\n",
       "    <tr>\n",
       "      <th>Experience</th>\n",
       "      <td>0.979192</td>\n",
       "      <td>1.000000</td>\n",
       "      <td>0.924455</td>\n",
       "    </tr>\n",
       "    <tr>\n",
       "      <th>Salary</th>\n",
       "      <td>0.916543</td>\n",
       "      <td>0.924455</td>\n",
       "      <td>1.000000</td>\n",
       "    </tr>\n",
       "  </tbody>\n",
       "</table>\n",
       "</div>"
      ],
      "text/plain": [
       "                 Age  Experience    Salary\n",
       "Age         1.000000    0.979192  0.916543\n",
       "Experience  0.979192    1.000000  0.924455\n",
       "Salary      0.916543    0.924455  1.000000"
      ]
     },
     "execution_count": 17,
     "metadata": {},
     "output_type": "execute_result"
    }
   ],
   "source": [
    "corr = sal_data1[['Age','Experience','Salary']].corr()\n",
    "corr"
   ]
  },
  {
   "cell_type": "markdown",
   "id": "f97b6135",
   "metadata": {},
   "source": [
    "# Data Visualisation"
   ]
  },
  {
   "cell_type": "code",
   "execution_count": 18,
   "id": "202af296",
   "metadata": {},
   "outputs": [
    {
     "data": {
      "text/plain": [
       "<Axes: >"
      ]
     },
     "execution_count": 18,
     "metadata": {},
     "output_type": "execute_result"
    },
    {
     "data": {
      "image/png": "[encoded data removed]",
      "text/plain": [
       "<Figure size 640x480 with 2 Axes>"
      ]
     },
     "metadata": {},
     "output_type": "display_data"
    }
   ],
   "source": [
    "sns.heatmap(corr,annot =True)"
   ]
  },
  {
   "cell_type": "code",
   "execution_count": 19,
   "id": "20dc803e",
   "metadata": {},
   "outputs": [
    {
     "data": {
      "text/plain": [
       "Bachelor's    191\n",
       "Master's       91\n",
       "PhD            42\n",
       "Name: Degree, dtype: int64"
      ]
     },
     "execution_count": 19,
     "metadata": {},
     "output_type": "execute_result"
    }
   ],
   "source": [
    "sal_data1['Degree'].value_counts()"
   ]
  },
  {
   "cell_type": "code",
   "execution_count": 20,
   "id": "bd302d4f",
   "metadata": {},
   "outputs": [
    {
     "data": {
      "text/plain": [
       "<Axes: >"
      ]
     },
     "execution_count": 20,
     "metadata": {},
     "output_type": "execute_result"
    },
    {
     "data": {
      "image/png": "[encoded data removed]",
      "text/plain": [
       "<Figure size 640x480 with 1 Axes>"
      ]
     },
     "metadata": {},
     "output_type": "display_data"
    }
   ],
   "source": [
    "sal_data1['Degree'].value_counts().plot(kind ='bar')"
   ]
  },
  {
   "cell_type": "code",
   "execution_count": 21,
   "id": "11b35e14",
   "metadata": {},
   "outputs": [
    {
     "data": {
      "text/plain": [
       "Director of Operations             9\n",
       "Director of Marketing              8\n",
       "Senior Marketing Manager           8\n",
       "Senior Project Manager             7\n",
       "Senior Business Analyst            6\n",
       "                                  ..\n",
       "Business Development Manager       1\n",
       "Customer Service Representative    1\n",
       "IT Manager                         1\n",
       "Digital Marketing Manager          1\n",
       "Junior Web Developer               1\n",
       "Name: Job_Title, Length: 174, dtype: int64"
      ]
     },
     "execution_count": 21,
     "metadata": {},
     "output_type": "execute_result"
    }
   ],
   "source": [
    "sal_data1['Job_Title'].value_counts()"
   ]
  },
  {
   "cell_type": "code",
   "execution_count": 22,
   "id": "c7459ddb",
   "metadata": {},
   "outputs": [
    {
     "data": {
      "text/plain": [
       "<Axes: >"
      ]
     },
     "execution_count": 22,
     "metadata": {},
     "output_type": "execute_result"
    },
    {
     "data": {
      "image/png": "[encoded data removed]",
      "text/plain": [
       "<Figure size 640x480 with 1 Axes>"
      ]
     },
     "metadata": {},
     "output_type": "display_data"
    }
   ],
   "source": [
    "sal_data1['Gender'].value_counts().plot(kind = \"bar\")"
   ]
  },
  {
   "cell_type": "code",
   "execution_count": 23,
   "id": "28521074",
   "metadata": {},
   "outputs": [
    {
     "data": {
      "text/plain": [
       "array(['Software Engineer', 'Data Analyst', 'Senior Manager',\n",
       "       'Sales Associate', 'Director', 'Marketing Analyst',\n",
       "       'Product Manager', 'Sales Manager', 'Marketing Coordinator',\n",
       "       'Senior Scientist', 'Software Developer', 'HR Manager',\n",
       "       'Financial Analyst', 'Project Manager', 'Customer Service Rep',\n",
       "       'Operations Manager', 'Marketing Manager', 'Senior Engineer',\n",
       "       'Data Entry Clerk', 'Sales Director', 'Business Analyst',\n",
       "       'VP of Operations', 'IT Support', 'Recruiter', 'Financial Manager',\n",
       "       'Social Media Specialist', 'Software Manager', 'Junior Developer',\n",
       "       'Senior Consultant', 'Product Designer', 'CEO', 'Accountant',\n",
       "       'Data Scientist', 'Marketing Specialist', 'Technical Writer',\n",
       "       'HR Generalist', 'Project Engineer', 'Customer Success Rep',\n",
       "       'Sales Executive', 'UX Designer', 'Operations Director',\n",
       "       'Network Engineer', 'Administrative Assistant',\n",
       "       'Strategy Consultant', 'Copywriter', 'Account Manager',\n",
       "       'Director of Marketing', 'Help Desk Analyst',\n",
       "       'Customer Service Manager', 'Business Intelligence Analyst',\n",
       "       'Event Coordinator', 'VP of Finance', 'Graphic Designer',\n",
       "       'UX Researcher', 'Social Media Manager', 'Director of Operations',\n",
       "       'Senior Data Scientist', 'Junior Accountant',\n",
       "       'Digital Marketing Manager', 'IT Manager',\n",
       "       'Customer Service Representative', 'Business Development Manager',\n",
       "       'Senior Financial Analyst', 'Web Developer', 'Research Director',\n",
       "       'Technical Support Specialist', 'Creative Director',\n",
       "       'Senior Software Engineer', 'Human Resources Director',\n",
       "       'Content Marketing Manager', 'Technical Recruiter',\n",
       "       'Sales Representative', 'Chief Technology Officer',\n",
       "       'Junior Designer', 'Financial Advisor', 'Junior Account Manager',\n",
       "       'Senior Project Manager', 'Principal Scientist',\n",
       "       'Supply Chain Manager', 'Senior Marketing Manager',\n",
       "       'Training Specialist', 'Research Scientist',\n",
       "       'Junior Software Developer', 'Public Relations Manager',\n",
       "       'Operations Analyst', 'Product Marketing Manager',\n",
       "       'Senior HR Manager', 'Junior Web Developer',\n",
       "       'Senior Project Coordinator', 'Chief Data Officer',\n",
       "       'Digital Content Producer', 'IT Support Specialist',\n",
       "       'Senior Marketing Analyst', 'Customer Success Manager',\n",
       "       'Senior Graphic Designer', 'Software Project Manager',\n",
       "       'Supply Chain Analyst', 'Senior Business Analyst',\n",
       "       'Junior Marketing Analyst', 'Office Manager', 'Principal Engineer',\n",
       "       'Junior HR Generalist', 'Senior Product Manager',\n",
       "       'Junior Operations Analyst', 'Senior HR Generalist',\n",
       "       'Sales Operations Manager', 'Senior Software Developer',\n",
       "       'Junior Web Designer', 'Senior Training Specialist',\n",
       "       'Senior Research Scientist', 'Junior Sales Representative',\n",
       "       'Junior Marketing Manager', 'Junior Data Analyst',\n",
       "       'Senior Product Marketing Manager', 'Junior Business Analyst',\n",
       "       'Senior Sales Manager', 'Junior Marketing Specialist',\n",
       "       'Junior Project Manager', 'Senior Accountant', 'Director of Sales',\n",
       "       'Junior Recruiter', 'Senior Business Development Manager',\n",
       "       'Senior Product Designer', 'Junior Customer Support Specialist',\n",
       "       'Senior IT Support Specialist', 'Junior Financial Analyst',\n",
       "       'Senior Operations Manager', 'Director of Human Resources',\n",
       "       'Junior Software Engineer', 'Senior Sales Representative',\n",
       "       'Director of Product Management', 'Junior Copywriter',\n",
       "       'Senior Marketing Coordinator', 'Senior Human Resources Manager',\n",
       "       'Junior Business Development Associate', 'Senior Account Manager',\n",
       "       'Senior Researcher', 'Junior HR Coordinator',\n",
       "       'Director of Finance', 'Junior Marketing Coordinator',\n",
       "       'Junior Data Scientist', 'Senior Operations Analyst',\n",
       "       'Senior Human Resources Coordinator', 'Senior UX Designer',\n",
       "       'Junior Product Manager', 'Senior Marketing Specialist',\n",
       "       'Senior IT Project Manager', 'Senior Quality Assurance Analyst',\n",
       "       'Director of Sales and Marketing', 'Senior Account Executive',\n",
       "       'Director of Business Development', 'Junior Social Media Manager',\n",
       "       'Senior Human Resources Specialist', 'Senior Data Analyst',\n",
       "       'Director of Human Capital', 'Junior Advertising Coordinator',\n",
       "       'Junior UX Designer', 'Senior Marketing Director',\n",
       "       'Senior IT Consultant', 'Senior Financial Advisor',\n",
       "       'Junior Business Operations Analyst',\n",
       "       'Junior Social Media Specialist',\n",
       "       'Senior Product Development Manager', 'Junior Operations Manager',\n",
       "       'Senior Software Architect', 'Junior Research Scientist',\n",
       "       'Senior Financial Manager', 'Senior HR Specialist',\n",
       "       'Senior Data Engineer', 'Junior Operations Coordinator',\n",
       "       'Director of HR', 'Senior Operations Coordinator',\n",
       "       'Junior Financial Advisor', 'Director of Engineering'],\n",
       "      dtype=object)"
      ]
     },
     "execution_count": 23,
     "metadata": {},
     "output_type": "execute_result"
    }
   ],
   "source": [
    "sal_data1['Job_Title'].unique()"
   ]
  },
  {
   "cell_type": "markdown",
   "id": "52406fe1",
   "metadata": {},
   "source": [
    "## Numerical Variables -Plot Histogram"
   ]
  },
  {
   "cell_type": "code",
   "execution_count": 24,
   "id": "ca2da6b9",
   "metadata": {},
   "outputs": [
    {
     "data": {
      "text/plain": [
       "<Axes: ylabel='Frequency'>"
      ]
     },
     "execution_count": 24,
     "metadata": {},
     "output_type": "execute_result"
    },
    {
     "data": {
      "image/png": "[encoded data removed]",
      "text/plain": [
       "<Figure size 640x480 with 1 Axes>"
      ]
     },
     "metadata": {},
     "output_type": "display_data"
    }
   ],
   "source": [
    "sal_data1.Age.plot(kind ='hist')"
   ]
  },
  {
   "cell_type": "code",
   "execution_count": 25,
   "id": "8c44573e",
   "metadata": {},
   "outputs": [
    {
     "data": {
      "text/plain": [
       "<Axes: >"
      ]
     },
     "execution_count": 25,
     "metadata": {},
     "output_type": "execute_result"
    },
    {
     "data": {
      "image/png": "[encoded data removed]",
      "text/plain": [
       "<Figure size 640x480 with 1 Axes>"
      ]
     },
     "metadata": {},
     "output_type": "display_data"
    }
   ],
   "source": [
    "sal_data1['Gender'].value_counts().plot(kind =\"barh\")"
   ]
  },
  {
   "cell_type": "code",
   "execution_count": 26,
   "id": "54e7ad89",
   "metadata": {},
   "outputs": [
    {
     "data": {
      "text/plain": [
       "<Axes: >"
      ]
     },
     "execution_count": 26,
     "metadata": {},
     "output_type": "execute_result"
    },
    {
     "data": {
      "image/png": "[encoded data removed]",
      "text/plain": [
       "<Figure size 640x480 with 1 Axes>"
      ]
     },
     "metadata": {},
     "output_type": "display_data"
    }
   ],
   "source": [
    "sal_data1.Age.plot(kind ='box')"
   ]
  },
  {
   "cell_type": "markdown",
   "id": "4bb15cc8",
   "metadata": {},
   "source": [
    "# Feature Engineering"
   ]
  },
  {
   "cell_type": "markdown",
   "id": "2cc174af",
   "metadata": {},
   "source": [
    "### Label Encoding"
   ]
  },
  {
   "cell_type": "code",
   "execution_count": 27,
   "id": "5164a40d",
   "metadata": {},
   "outputs": [],
   "source": [
    "from sklearn.preprocessing import LabelEncoder\n",
    "Label_Encoder =LabelEncoder ()"
   ]
  },
  {
   "cell_type": "code",
   "execution_count": 29,
   "id": "9b8ce35e",
   "metadata": {},
   "outputs": [
    {
     "name": "stderr",
     "output_type": "stream",
     "text": [
      "C:\\Users\\PRIYA LANDGE\\AppData\\Local\\Temp\\ipykernel_22216\\1017469824.py:1: SettingWithCopyWarning: \n",
      "A value is trying to be set on a copy of a slice from a DataFrame.\n",
      "Try using .loc[row_indexer,col_indexer] = value instead\n",
      "\n",
      "See the caveats in the documentation: https://pandas.pydata.org/pandas-docs/stable/user_guide/indexing.html#returning-a-view-versus-a-copy\n",
      "  sal_data1['Gender_Encode'] = Label_Encoder.fit_transform(sal_data1['Gender'])\n"
     ]
    }
   ],
   "source": [
    "sal_data1['Gender_Encode'] = Label_Encoder.fit_transform(sal_data1['Gender'])"
   ]
  },
  {
   "cell_type": "code",
   "execution_count": 33,
   "id": "a83e55ef",
   "metadata": {},
   "outputs": [
    {
     "name": "stderr",
     "output_type": "stream",
     "text": [
      "C:\\Users\\PRIYA LANDGE\\AppData\\Local\\Temp\\ipykernel_22216\\446779904.py:1: SettingWithCopyWarning: \n",
      "A value is trying to be set on a copy of a slice from a DataFrame.\n",
      "Try using .loc[row_indexer,col_indexer] = value instead\n",
      "\n",
      "See the caveats in the documentation: https://pandas.pydata.org/pandas-docs/stable/user_guide/indexing.html#returning-a-view-versus-a-copy\n",
      "  sal_data1['Degree_Encode'] = Label_Encoder.fit_transform(sal_data1['Degree'])\n"
     ]
    }
   ],
   "source": [
    "sal_data1['Degree_Encode'] = Label_Encoder.fit_transform(sal_data1['Degree'])"
   ]
  },
  {
   "cell_type": "code",
   "execution_count": 35,
   "id": "c2670b32",
   "metadata": {},
   "outputs": [
    {
     "name": "stderr",
     "output_type": "stream",
     "text": [
      "C:\\Users\\PRIYA LANDGE\\AppData\\Local\\Temp\\ipykernel_22216\\840262182.py:1: SettingWithCopyWarning: \n",
      "A value is trying to be set on a copy of a slice from a DataFrame.\n",
      "Try using .loc[row_indexer,col_indexer] = value instead\n",
      "\n",
      "See the caveats in the documentation: https://pandas.pydata.org/pandas-docs/stable/user_guide/indexing.html#returning-a-view-versus-a-copy\n",
      "  sal_data1['Job_Title_Encode'] = Label_Encoder.fit_transform(sal_data1['Job_Title'])\n"
     ]
    }
   ],
   "source": [
    "sal_data1['Job_Title_Encode'] = Label_Encoder.fit_transform(sal_data1['Job_Title'])"
   ]
  },
  {
   "cell_type": "markdown",
   "id": "30fdf686",
   "metadata": {},
   "source": [
    "### Data after Label Encoding"
   ]
  },
  {
   "cell_type": "code",
   "execution_count": 36,
   "id": "41a40bbd",
   "metadata": {},
   "outputs": [
    {
     "data": {
      "text/html": [
       "<div>\n",
       "<style scoped>\n",
       "    .dataframe tbody tr th:only-of-type {\n",
       "        vertical-align: middle;\n",
       "    }\n",
       "\n",
       "    .dataframe tbody tr th {\n",
       "        vertical-align: top;\n",
       "    }\n",
       "\n",
       "    .dataframe thead th {\n",
       "        text-align: right;\n",
       "    }\n",
       "</style>\n",
       "<table border=\"1\" class=\"dataframe\">\n",
       "  <thead>\n",
       "    <tr style=\"text-align: right;\">\n",
       "      <th></th>\n",
       "      <th>Age</th>\n",
       "      <th>Gender</th>\n",
       "      <th>Degree</th>\n",
       "      <th>Job_Title</th>\n",
       "      <th>Experience</th>\n",
       "      <th>Salary</th>\n",
       "      <th>Gender_Encode</th>\n",
       "      <th>Degree_Encode</th>\n",
       "      <th>Job_Title_Encode</th>\n",
       "    </tr>\n",
       "  </thead>\n",
       "  <tbody>\n",
       "    <tr>\n",
       "      <th>0</th>\n",
       "      <td>32.0</td>\n",
       "      <td>Male</td>\n",
       "      <td>Bachelor's</td>\n",
       "      <td>Software Engineer</td>\n",
       "      <td>5.0</td>\n",
       "      <td>90000.0</td>\n",
       "      <td>1</td>\n",
       "      <td>0</td>\n",
       "      <td>159</td>\n",
       "    </tr>\n",
       "    <tr>\n",
       "      <th>1</th>\n",
       "      <td>28.0</td>\n",
       "      <td>Female</td>\n",
       "      <td>Master's</td>\n",
       "      <td>Data Analyst</td>\n",
       "      <td>3.0</td>\n",
       "      <td>65000.0</td>\n",
       "      <td>0</td>\n",
       "      <td>1</td>\n",
       "      <td>17</td>\n",
       "    </tr>\n",
       "    <tr>\n",
       "      <th>2</th>\n",
       "      <td>45.0</td>\n",
       "      <td>Male</td>\n",
       "      <td>PhD</td>\n",
       "      <td>Senior Manager</td>\n",
       "      <td>15.0</td>\n",
       "      <td>150000.0</td>\n",
       "      <td>1</td>\n",
       "      <td>2</td>\n",
       "      <td>130</td>\n",
       "    </tr>\n",
       "    <tr>\n",
       "      <th>3</th>\n",
       "      <td>36.0</td>\n",
       "      <td>Female</td>\n",
       "      <td>Bachelor's</td>\n",
       "      <td>Sales Associate</td>\n",
       "      <td>7.0</td>\n",
       "      <td>60000.0</td>\n",
       "      <td>0</td>\n",
       "      <td>0</td>\n",
       "      <td>101</td>\n",
       "    </tr>\n",
       "    <tr>\n",
       "      <th>4</th>\n",
       "      <td>52.0</td>\n",
       "      <td>Male</td>\n",
       "      <td>Master's</td>\n",
       "      <td>Director</td>\n",
       "      <td>20.0</td>\n",
       "      <td>200000.0</td>\n",
       "      <td>1</td>\n",
       "      <td>1</td>\n",
       "      <td>22</td>\n",
       "    </tr>\n",
       "  </tbody>\n",
       "</table>\n",
       "</div>"
      ],
      "text/plain": [
       "    Age  Gender      Degree          Job_Title  Experience    Salary  \\\n",
       "0  32.0    Male  Bachelor's  Software Engineer         5.0   90000.0   \n",
       "1  28.0  Female    Master's       Data Analyst         3.0   65000.0   \n",
       "2  45.0    Male         PhD     Senior Manager        15.0  150000.0   \n",
       "3  36.0  Female  Bachelor's    Sales Associate         7.0   60000.0   \n",
       "4  52.0    Male    Master's           Director        20.0  200000.0   \n",
       "\n",
       "   Gender_Encode  Degree_Encode  Job_Title_Encode  \n",
       "0              1              0               159  \n",
       "1              0              1                17  \n",
       "2              1              2               130  \n",
       "3              0              0               101  \n",
       "4              1              1                22  "
      ]
     },
     "execution_count": 36,
     "metadata": {},
     "output_type": "execute_result"
    }
   ],
   "source": [
    "sal_data1.head()"
   ]
  },
  {
   "cell_type": "markdown",
   "id": "fc0afbdb",
   "metadata": {},
   "source": [
    "### Feature Scaling"
   ]
  },
  {
   "cell_type": "code",
   "execution_count": 37,
   "id": "572b3455",
   "metadata": {},
   "outputs": [],
   "source": [
    "from sklearn.preprocessing import StandardScaler\n",
    "std_scaler = StandardScaler()"
   ]
  },
  {
   "cell_type": "code",
   "execution_count": 42,
   "id": "afcd46cb",
   "metadata": {},
   "outputs": [
    {
     "name": "stderr",
     "output_type": "stream",
     "text": [
      "C:\\Users\\PRIYA LANDGE\\AppData\\Local\\Temp\\ipykernel_22216\\1919508101.py:1: SettingWithCopyWarning: \n",
      "A value is trying to be set on a copy of a slice from a DataFrame.\n",
      "Try using .loc[row_indexer,col_indexer] = value instead\n",
      "\n",
      "See the caveats in the documentation: https://pandas.pydata.org/pandas-docs/stable/user_guide/indexing.html#returning-a-view-versus-a-copy\n",
      "  sal_data1['Age_scaled'] = std_scaler.fit_transform(sal_data1[['Age']])\n",
      "C:\\Users\\PRIYA LANDGE\\AppData\\Local\\Temp\\ipykernel_22216\\1919508101.py:2: SettingWithCopyWarning: \n",
      "A value is trying to be set on a copy of a slice from a DataFrame.\n",
      "Try using .loc[row_indexer,col_indexer] = value instead\n",
      "\n",
      "See the caveats in the documentation: https://pandas.pydata.org/pandas-docs/stable/user_guide/indexing.html#returning-a-view-versus-a-copy\n",
      "  sal_data1[\"Experience_scaled\"] = std_scaler.fit_transform(sal_data1[[ 'Experience']])\n"
     ]
    }
   ],
   "source": [
    "sal_data1['Age_scaled'] = std_scaler.fit_transform(sal_data1[['Age']])\n",
    "sal_data1[\"Experience_scaled\"] = std_scaler.fit_transform(sal_data1[[ 'Experience']])"
   ]
  },
  {
   "cell_type": "markdown",
   "id": "10865366",
   "metadata": {},
   "source": [
    "### Data After scaling\n"
   ]
  },
  {
   "cell_type": "code",
   "execution_count": 44,
   "id": "12e1381d",
   "metadata": {},
   "outputs": [
    {
     "data": {
      "text/html": [
       "<div>\n",
       "<style scoped>\n",
       "    .dataframe tbody tr th:only-of-type {\n",
       "        vertical-align: middle;\n",
       "    }\n",
       "\n",
       "    .dataframe tbody tr th {\n",
       "        vertical-align: top;\n",
       "    }\n",
       "\n",
       "    .dataframe thead th {\n",
       "        text-align: right;\n",
       "    }\n",
       "</style>\n",
       "<table border=\"1\" class=\"dataframe\">\n",
       "  <thead>\n",
       "    <tr style=\"text-align: right;\">\n",
       "      <th></th>\n",
       "      <th>Age</th>\n",
       "      <th>Gender</th>\n",
       "      <th>Degree</th>\n",
       "      <th>Job_Title</th>\n",
       "      <th>Experience</th>\n",
       "      <th>Salary</th>\n",
       "      <th>Gender_Encode</th>\n",
       "      <th>Degree_Encode</th>\n",
       "      <th>Job_Title_Encode</th>\n",
       "      <th>Age_scaled</th>\n",
       "      <th>Experience_scaled</th>\n",
       "    </tr>\n",
       "  </thead>\n",
       "  <tbody>\n",
       "    <tr>\n",
       "      <th>0</th>\n",
       "      <td>32.0</td>\n",
       "      <td>Male</td>\n",
       "      <td>Bachelor's</td>\n",
       "      <td>Software Engineer</td>\n",
       "      <td>5.0</td>\n",
       "      <td>90000.0</td>\n",
       "      <td>1</td>\n",
       "      <td>0</td>\n",
       "      <td>159</td>\n",
       "      <td>-0.750231</td>\n",
       "      <td>-0.761821</td>\n",
       "    </tr>\n",
       "    <tr>\n",
       "      <th>1</th>\n",
       "      <td>28.0</td>\n",
       "      <td>Female</td>\n",
       "      <td>Master's</td>\n",
       "      <td>Data Analyst</td>\n",
       "      <td>3.0</td>\n",
       "      <td>65000.0</td>\n",
       "      <td>0</td>\n",
       "      <td>1</td>\n",
       "      <td>17</td>\n",
       "      <td>-1.307742</td>\n",
       "      <td>-1.063017</td>\n",
       "    </tr>\n",
       "    <tr>\n",
       "      <th>2</th>\n",
       "      <td>45.0</td>\n",
       "      <td>Male</td>\n",
       "      <td>PhD</td>\n",
       "      <td>Senior Manager</td>\n",
       "      <td>15.0</td>\n",
       "      <td>150000.0</td>\n",
       "      <td>1</td>\n",
       "      <td>2</td>\n",
       "      <td>130</td>\n",
       "      <td>1.061680</td>\n",
       "      <td>0.744158</td>\n",
       "    </tr>\n",
       "    <tr>\n",
       "      <th>3</th>\n",
       "      <td>36.0</td>\n",
       "      <td>Female</td>\n",
       "      <td>Bachelor's</td>\n",
       "      <td>Sales Associate</td>\n",
       "      <td>7.0</td>\n",
       "      <td>60000.0</td>\n",
       "      <td>0</td>\n",
       "      <td>0</td>\n",
       "      <td>101</td>\n",
       "      <td>-0.192720</td>\n",
       "      <td>-0.460625</td>\n",
       "    </tr>\n",
       "    <tr>\n",
       "      <th>4</th>\n",
       "      <td>52.0</td>\n",
       "      <td>Male</td>\n",
       "      <td>Master's</td>\n",
       "      <td>Director</td>\n",
       "      <td>20.0</td>\n",
       "      <td>200000.0</td>\n",
       "      <td>1</td>\n",
       "      <td>1</td>\n",
       "      <td>22</td>\n",
       "      <td>2.037324</td>\n",
       "      <td>1.497148</td>\n",
       "    </tr>\n",
       "  </tbody>\n",
       "</table>\n",
       "</div>"
      ],
      "text/plain": [
       "    Age  Gender      Degree          Job_Title  Experience    Salary  \\\n",
       "0  32.0    Male  Bachelor's  Software Engineer         5.0   90000.0   \n",
       "1  28.0  Female    Master's       Data Analyst         3.0   65000.0   \n",
       "2  45.0    Male         PhD     Senior Manager        15.0  150000.0   \n",
       "3  36.0  Female  Bachelor's    Sales Associate         7.0   60000.0   \n",
       "4  52.0    Male    Master's           Director        20.0  200000.0   \n",
       "\n",
       "   Gender_Encode  Degree_Encode  Job_Title_Encode  Age_scaled  \\\n",
       "0              1              0               159   -0.750231   \n",
       "1              0              1                17   -1.307742   \n",
       "2              1              2               130    1.061680   \n",
       "3              0              0               101   -0.192720   \n",
       "4              1              1                22    2.037324   \n",
       "\n",
       "   Experience_scaled  \n",
       "0          -0.761821  \n",
       "1          -1.063017  \n",
       "2           0.744158  \n",
       "3          -0.460625  \n",
       "4           1.497148  "
      ]
     },
     "execution_count": 44,
     "metadata": {},
     "output_type": "execute_result"
    }
   ],
   "source": [
    "sal_data1.head()"
   ]
  },
  {
   "cell_type": "markdown",
   "id": "685797ea",
   "metadata": {},
   "source": [
    "### Dependent and inpendent Features"
   ]
  },
  {
   "cell_type": "code",
   "execution_count": 50,
   "id": "9f405ef8",
   "metadata": {},
   "outputs": [],
   "source": [
    "X = sal_data1[['Age_scaled','Gender_Encode','Degree_Encode','Job_Title_Encode','Experience_scaled']]\n",
    "Y = sal_data1['Salary']"
   ]
  },
  {
   "cell_type": "code",
   "execution_count": 51,
   "id": "f2390ca9",
   "metadata": {},
   "outputs": [
    {
     "data": {
      "text/html": [
       "<div>\n",
       "<style scoped>\n",
       "    .dataframe tbody tr th:only-of-type {\n",
       "        vertical-align: middle;\n",
       "    }\n",
       "\n",
       "    .dataframe tbody tr th {\n",
       "        vertical-align: top;\n",
       "    }\n",
       "\n",
       "    .dataframe thead th {\n",
       "        text-align: right;\n",
       "    }\n",
       "</style>\n",
       "<table border=\"1\" class=\"dataframe\">\n",
       "  <thead>\n",
       "    <tr style=\"text-align: right;\">\n",
       "      <th></th>\n",
       "      <th>Age_scaled</th>\n",
       "      <th>Gender_Encode</th>\n",
       "      <th>Degree_Encode</th>\n",
       "      <th>Job_Title_Encode</th>\n",
       "      <th>Experience_scaled</th>\n",
       "    </tr>\n",
       "  </thead>\n",
       "  <tbody>\n",
       "    <tr>\n",
       "      <th>0</th>\n",
       "      <td>-0.750231</td>\n",
       "      <td>1</td>\n",
       "      <td>0</td>\n",
       "      <td>159</td>\n",
       "      <td>-0.761821</td>\n",
       "    </tr>\n",
       "    <tr>\n",
       "      <th>1</th>\n",
       "      <td>-1.307742</td>\n",
       "      <td>0</td>\n",
       "      <td>1</td>\n",
       "      <td>17</td>\n",
       "      <td>-1.063017</td>\n",
       "    </tr>\n",
       "    <tr>\n",
       "      <th>2</th>\n",
       "      <td>1.061680</td>\n",
       "      <td>1</td>\n",
       "      <td>2</td>\n",
       "      <td>130</td>\n",
       "      <td>0.744158</td>\n",
       "    </tr>\n",
       "    <tr>\n",
       "      <th>3</th>\n",
       "      <td>-0.192720</td>\n",
       "      <td>0</td>\n",
       "      <td>0</td>\n",
       "      <td>101</td>\n",
       "      <td>-0.460625</td>\n",
       "    </tr>\n",
       "    <tr>\n",
       "      <th>4</th>\n",
       "      <td>2.037324</td>\n",
       "      <td>1</td>\n",
       "      <td>1</td>\n",
       "      <td>22</td>\n",
       "      <td>1.497148</td>\n",
       "    </tr>\n",
       "  </tbody>\n",
       "</table>\n",
       "</div>"
      ],
      "text/plain": [
       "   Age_scaled  Gender_Encode  Degree_Encode  Job_Title_Encode  \\\n",
       "0   -0.750231              1              0               159   \n",
       "1   -1.307742              0              1                17   \n",
       "2    1.061680              1              2               130   \n",
       "3   -0.192720              0              0               101   \n",
       "4    2.037324              1              1                22   \n",
       "\n",
       "   Experience_scaled  \n",
       "0          -0.761821  \n",
       "1          -1.063017  \n",
       "2           0.744158  \n",
       "3          -0.460625  \n",
       "4           1.497148  "
      ]
     },
     "execution_count": 51,
     "metadata": {},
     "output_type": "execute_result"
    }
   ],
   "source": [
    "X.head()"
   ]
  },
  {
   "cell_type": "markdown",
   "id": "b66e2e6f",
   "metadata": {},
   "source": [
    "### Spilitting data into training and testing "
   ]
  },
  {
   "cell_type": "code",
   "execution_count": 54,
   "id": "08b92ab9",
   "metadata": {},
   "outputs": [],
   "source": [
    "from sklearn.model_selection import train_test_split"
   ]
  },
  {
   "cell_type": "code",
   "execution_count": 57,
   "id": "ee65a5d4",
   "metadata": {},
   "outputs": [],
   "source": [
    "x_train, x_test, y_train, y_test = train_test_split(X, y, test_size= 0.2, random_state = 42)"
   ]
  },
  {
   "cell_type": "code",
   "execution_count": 63,
   "id": "3f4b8bbe",
   "metadata": {},
   "outputs": [
    {
     "data": {
      "text/plain": [
       "(259, 5)"
      ]
     },
     "execution_count": 63,
     "metadata": {},
     "output_type": "execute_result"
    }
   ],
   "source": [
    "x_train.shape #80 percent of the data "
   ]
  },
  {
   "cell_type": "code",
   "execution_count": 64,
   "id": "666f3b6a",
   "metadata": {},
   "outputs": [
    {
     "data": {
      "text/plain": [
       "(65, 5)"
      ]
     },
     "execution_count": 64,
     "metadata": {},
     "output_type": "execute_result"
    }
   ],
   "source": [
    "x_test.shape # 20 percent of the data"
   ]
  },
  {
   "cell_type": "markdown",
   "id": "065f06c1",
   "metadata": {},
   "source": [
    "### Model Development"
   ]
  },
  {
   "cell_type": "code",
   "execution_count": 60,
   "id": "520863db",
   "metadata": {},
   "outputs": [],
   "source": [
    "from sklearn.linear_model import LinearRegression"
   ]
  },
  {
   "cell_type": "code",
   "execution_count": 61,
   "id": "3b0fc408",
   "metadata": {},
   "outputs": [],
   "source": [
    "Linear_regression_model = LinearRegression()"
   ]
  },
  {
   "cell_type": "markdown",
   "id": "07b89a5f",
   "metadata": {},
   "source": [
    "### Model Training"
   ]
  },
  {
   "cell_type": "code",
   "execution_count": 65,
   "id": "933b0e55",
   "metadata": {},
   "outputs": [
    {
     "data": {
      "text/html": [
       "<style>#sk-container-id-1 {color: black;background-color: white;}#sk-container-id-1 pre{padding: 0;}#sk-container-id-1 div.sk-toggleable {background-color: white;}#sk-container-id-1 label.sk-toggleable__label {cursor: pointer;display: block;width: 100%;margin-bottom: 0;padding: 0.3em;box-sizing: border-box;text-align: center;}#sk-container-id-1 label.sk-toggleable__label-arrow:before {content: \"▸\";float: left;margin-right: 0.25em;color: #696969;}#sk-container-id-1 label.sk-toggleable__label-arrow:hover:before {color: black;}#sk-container-id-1 div.sk-estimator:hover label.sk-toggleable__label-arrow:before {color: black;}#sk-container-id-1 div.sk-toggleable__content {max-height: 0;max-width: 0;overflow: hidden;text-align: left;background-color: #f0f8ff;}#sk-container-id-1 div.sk-toggleable__content pre {margin: 0.2em;color: black;border-radius: 0.25em;background-color: #f0f8ff;}#sk-container-id-1 input.sk-toggleable__control:checked~div.sk-toggleable__content {max-height: 200px;max-width: 100%;overflow: auto;}#sk-container-id-1 input.sk-toggleable__control:checked~label.sk-toggleable__label-arrow:before {content: \"▾\";}#sk-container-id-1 div.sk-estimator input.sk-toggleable__control:checked~label.sk-toggleable__label {background-color: #d4ebff;}#sk-container-id-1 div.sk-label input.sk-toggleable__control:checked~label.sk-toggleable__label {background-color: #d4ebff;}#sk-container-id-1 input.sk-hidden--visually {border: 0;clip: rect(1px 1px 1px 1px);clip: rect(1px, 1px, 1px, 1px);height: 1px;margin: -1px;overflow: hidden;padding: 0;position: absolute;width: 1px;}#sk-container-id-1 div.sk-estimator {font-family: monospace;background-color: #f0f8ff;border: 1px dotted black;border-radius: 0.25em;box-sizing: border-box;margin-bottom: 0.5em;}#sk-container-id-1 div.sk-estimator:hover {background-color: #d4ebff;}#sk-container-id-1 div.sk-parallel-item::after {content: \"\";width: 100%;border-bottom: 1px solid gray;flex-grow: 1;}#sk-container-id-1 div.sk-label:hover label.sk-toggleable__label {background-color: #d4ebff;}#sk-container-id-1 div.sk-serial::before {content: \"\";position: absolute;border-left: 1px solid gray;box-sizing: border-box;top: 0;bottom: 0;left: 50%;z-index: 0;}#sk-container-id-1 div.sk-serial {display: flex;flex-direction: column;align-items: center;background-color: white;padding-right: 0.2em;padding-left: 0.2em;position: relative;}#sk-container-id-1 div.sk-item {position: relative;z-index: 1;}#sk-container-id-1 div.sk-parallel {display: flex;align-items: stretch;justify-content: center;background-color: white;position: relative;}#sk-container-id-1 div.sk-item::before, #sk-container-id-1 div.sk-parallel-item::before {content: \"\";position: absolute;border-left: 1px solid gray;box-sizing: border-box;top: 0;bottom: 0;left: 50%;z-index: -1;}#sk-container-id-1 div.sk-parallel-item {display: flex;flex-direction: column;z-index: 1;position: relative;background-color: white;}#sk-container-id-1 div.sk-parallel-item:first-child::after {align-self: flex-end;width: 50%;}#sk-container-id-1 div.sk-parallel-item:last-child::after {align-self: flex-start;width: 50%;}#sk-container-id-1 div.sk-parallel-item:only-child::after {width: 0;}#sk-container-id-1 div.sk-dashed-wrapped {border: 1px dashed gray;margin: 0 0.4em 0.5em 0.4em;box-sizing: border-box;padding-bottom: 0.4em;background-color: white;}#sk-container-id-1 div.sk-label label {font-family: monospace;font-weight: bold;display: inline-block;line-height: 1.2em;}#sk-container-id-1 div.sk-label-container {text-align: center;}#sk-container-id-1 div.sk-container {/* jupyter's `normalize.less` sets `[hidden] { display: none; }` but bootstrap.min.css set `[hidden] { display: none !important; }` so we also need the `!important` here to be able to override the default hidden behavior on the sphinx rendered scikit-learn.org. See: https://github.com/scikit-learn/scikit-learn/issues/21755 */display: inline-block !important;position: relative;}#sk-container-id-1 div.sk-text-repr-fallback {display: none;}</style><div id=\"sk-container-id-1\" class=\"sk-top-container\"><div class=\"sk-text-repr-fallback\"><pre>LinearRegression()</pre><b>In a Jupyter environment, please rerun this cell to show the HTML representation or trust the notebook. <br />On GitHub, the HTML representation is unable to render, please try loading this page with nbviewer.org.</b></div><div class=\"sk-container\" hidden><div class=\"sk-item\"><div class=\"sk-estimator sk-toggleable\"><input class=\"sk-toggleable__control sk-hidden--visually\" id=\"sk-estimator-id-1\" type=\"checkbox\" checked><label for=\"sk-estimator-id-1\" class=\"sk-toggleable__label sk-toggleable__label-arrow\">LinearRegression</label><div class=\"sk-toggleable__content\"><pre>LinearRegression()</pre></div></div></div></div></div>"
      ],
      "text/plain": [
       "LinearRegression()"
      ]
     },
     "execution_count": 65,
     "metadata": {},
     "output_type": "execute_result"
    }
   ],
   "source": [
    "Linear_regression_model.fit(x_train, y_train)"
   ]
  },
  {
   "cell_type": "markdown",
   "id": "738649cc",
   "metadata": {},
   "source": [
    "### Model prediction: "
   ]
  },
  {
   "cell_type": "code",
   "execution_count": 68,
   "id": "17e18a88",
   "metadata": {},
   "outputs": [
    {
     "data": {
      "text/plain": [
       "array([117415.91344602, 125562.80742758,  48965.15386167, 128739.34887988,\n",
       "       106828.49930535,  99654.76748821,  49101.27883652,  57130.71108104,\n",
       "       166333.69009266,  43112.61060113,  40544.18249367, 122553.217185  ,\n",
       "       107631.15450848, 155580.48335296,  83652.23602446, 170890.28450907,\n",
       "        98984.50106226, 109338.33008328,  42267.86835535,  48089.87647812,\n",
       "        75674.93528581,  64499.29874156,  63619.2494321 ,  31543.41552147,\n",
       "       188376.92844437,  90340.76921722, 155285.91529198, 160863.57809872,\n",
       "       185183.73163709,  34741.26224478, 124850.6230462 , 165106.94121635,\n",
       "        87085.00622186, 155425.69514031, 149190.25441885,  45729.74800187,\n",
       "        88475.39474629,  92025.62668073,  97997.32557607,  40411.112659  ,\n",
       "        89995.79796521,  53873.21977084, 108677.48549927,  54590.96778663,\n",
       "        36497.92729223,  48611.85493217, 129193.72126941,  43102.58902589,\n",
       "       162383.16672117,  81874.95829259, 157771.0301154 ,  43984.89040816,\n",
       "        59950.21740617,  94023.81456492,  84929.3880918 ,  60296.00325465,\n",
       "        91816.87952546,  56177.1258728 ,  75243.32853162, 104701.69952733,\n",
       "       117279.78847117,  83396.82187583, 177743.76102871,  72275.14427419,\n",
       "        86307.61361918])"
      ]
     },
     "execution_count": 68,
     "metadata": {},
     "output_type": "execute_result"
    }
   ],
   "source": [
    "y_pred_lr = Linear_regression_model.predict(x_test)\n",
    "y_pred_lr"
   ]
  },
  {
   "cell_type": "code",
   "execution_count": 73,
   "id": "ecb500fe",
   "metadata": {},
   "outputs": [
    {
     "data": {
      "text/html": [
       "<div>\n",
       "<style scoped>\n",
       "    .dataframe tbody tr th:only-of-type {\n",
       "        vertical-align: middle;\n",
       "    }\n",
       "\n",
       "    .dataframe tbody tr th {\n",
       "        vertical-align: top;\n",
       "    }\n",
       "\n",
       "    .dataframe thead th {\n",
       "        text-align: right;\n",
       "    }\n",
       "</style>\n",
       "<table border=\"1\" class=\"dataframe\">\n",
       "  <thead>\n",
       "    <tr style=\"text-align: right;\">\n",
       "      <th></th>\n",
       "      <th>y_Actual</th>\n",
       "      <th>y_Predicted</th>\n",
       "      <th>Error</th>\n",
       "      <th>abs_error</th>\n",
       "    </tr>\n",
       "  </thead>\n",
       "  <tbody>\n",
       "    <tr>\n",
       "      <th>132</th>\n",
       "      <td>100000.0</td>\n",
       "      <td>117415.913446</td>\n",
       "      <td>-17415.913446</td>\n",
       "      <td>17415.913446</td>\n",
       "    </tr>\n",
       "    <tr>\n",
       "      <th>108</th>\n",
       "      <td>100000.0</td>\n",
       "      <td>125562.807428</td>\n",
       "      <td>-25562.807428</td>\n",
       "      <td>25562.807428</td>\n",
       "    </tr>\n",
       "    <tr>\n",
       "      <th>137</th>\n",
       "      <td>50000.0</td>\n",
       "      <td>48965.153862</td>\n",
       "      <td>1034.846138</td>\n",
       "      <td>1034.846138</td>\n",
       "    </tr>\n",
       "    <tr>\n",
       "      <th>9</th>\n",
       "      <td>110000.0</td>\n",
       "      <td>128739.348880</td>\n",
       "      <td>-18739.348880</td>\n",
       "      <td>18739.348880</td>\n",
       "    </tr>\n",
       "    <tr>\n",
       "      <th>181</th>\n",
       "      <td>105000.0</td>\n",
       "      <td>106828.499305</td>\n",
       "      <td>-1828.499305</td>\n",
       "      <td>1828.499305</td>\n",
       "    </tr>\n",
       "    <tr>\n",
       "      <th>...</th>\n",
       "      <td>...</td>\n",
       "      <td>...</td>\n",
       "      <td>...</td>\n",
       "      <td>...</td>\n",
       "    </tr>\n",
       "    <tr>\n",
       "      <th>104</th>\n",
       "      <td>80000.0</td>\n",
       "      <td>117279.788471</td>\n",
       "      <td>-37279.788471</td>\n",
       "      <td>37279.788471</td>\n",
       "    </tr>\n",
       "    <tr>\n",
       "      <th>233</th>\n",
       "      <td>85000.0</td>\n",
       "      <td>83396.821876</td>\n",
       "      <td>1603.178124</td>\n",
       "      <td>1603.178124</td>\n",
       "    </tr>\n",
       "    <tr>\n",
       "      <th>60</th>\n",
       "      <td>170000.0</td>\n",
       "      <td>177743.761029</td>\n",
       "      <td>-7743.761029</td>\n",
       "      <td>7743.761029</td>\n",
       "    </tr>\n",
       "    <tr>\n",
       "      <th>94</th>\n",
       "      <td>75000.0</td>\n",
       "      <td>72275.144274</td>\n",
       "      <td>2724.855726</td>\n",
       "      <td>2724.855726</td>\n",
       "    </tr>\n",
       "    <tr>\n",
       "      <th>278</th>\n",
       "      <td>95000.0</td>\n",
       "      <td>86307.613619</td>\n",
       "      <td>8692.386381</td>\n",
       "      <td>8692.386381</td>\n",
       "    </tr>\n",
       "  </tbody>\n",
       "</table>\n",
       "<p>65 rows × 4 columns</p>\n",
       "</div>"
      ],
      "text/plain": [
       "     y_Actual    y_Predicted         Error     abs_error\n",
       "132  100000.0  117415.913446 -17415.913446  17415.913446\n",
       "108  100000.0  125562.807428 -25562.807428  25562.807428\n",
       "137   50000.0   48965.153862   1034.846138   1034.846138\n",
       "9    110000.0  128739.348880 -18739.348880  18739.348880\n",
       "181  105000.0  106828.499305  -1828.499305   1828.499305\n",
       "..        ...            ...           ...           ...\n",
       "104   80000.0  117279.788471 -37279.788471  37279.788471\n",
       "233   85000.0   83396.821876   1603.178124   1603.178124\n",
       "60   170000.0  177743.761029  -7743.761029   7743.761029\n",
       "94    75000.0   72275.144274   2724.855726   2724.855726\n",
       "278   95000.0   86307.613619   8692.386381   8692.386381\n",
       "\n",
       "[65 rows x 4 columns]"
      ]
     },
     "execution_count": 73,
     "metadata": {},
     "output_type": "execute_result"
    }
   ],
   "source": [
    "df = pd.DataFrame({'y_Actual': y_test , \"y_Predicted\": y_pred_lr})\n",
    "df['Error'] = df ['y_Actual']- df['y_Predicted']\n",
    "df['abs_error'] = abs (df['Error'])\n",
    "df"
   ]
  },
  {
   "cell_type": "code",
   "execution_count": 75,
   "id": "bc09d10e",
   "metadata": {},
   "outputs": [
    {
     "data": {
      "text/plain": [
       "10570.78640113618"
      ]
     },
     "execution_count": 75,
     "metadata": {},
     "output_type": "execute_result"
    }
   ],
   "source": [
    "Mean_absolute_Error = df['abs_error'].mean()\n",
    "Mean_absolute_Error"
   ]
  },
  {
   "cell_type": "markdown",
   "id": "30731ad9",
   "metadata": {},
   "source": [
    "# Model evalutation"
   ]
  },
  {
   "cell_type": "code",
   "execution_count": 77,
   "id": "960f1119",
   "metadata": {},
   "outputs": [],
   "source": [
    "from sklearn.metrics import accuracy_score, r2_score\n",
    "from sklearn.metrics import mean_squared_error, mean_absolute_error"
   ]
  },
  {
   "cell_type": "markdown",
   "id": "24d8d3d2",
   "metadata": {},
   "source": [
    "### Model Accuracy"
   ]
  },
  {
   "cell_type": "code",
   "execution_count": 78,
   "id": "a845ef2e",
   "metadata": {},
   "outputs": [
    {
     "data": {
      "text/plain": [
       "0.8911231066517088"
      ]
     },
     "execution_count": 78,
     "metadata": {},
     "output_type": "execute_result"
    }
   ],
   "source": [
    "r2_score(y_test , y_pred_lr)"
   ]
  },
  {
   "cell_type": "code",
   "execution_count": 84,
   "id": "81861744",
   "metadata": {},
   "outputs": [
    {
     "name": "stdout",
     "output_type": "stream",
     "text": [
      "Accuracy of the model = 89.11 %\n"
     ]
    }
   ],
   "source": [
    "print(f'Accuracy of the model = {round(r2_score(y_test, y_pred_lr),4)*100 } %')"
   ]
  },
  {
   "cell_type": "markdown",
   "id": "5617efbd",
   "metadata": {},
   "source": [
    "### Mean Absolute error"
   ]
  },
  {
   "cell_type": "code",
   "execution_count": 85,
   "id": "4aebeeff",
   "metadata": {},
   "outputs": [
    {
     "data": {
      "text/plain": [
       "10570.79"
      ]
     },
     "execution_count": 85,
     "metadata": {},
     "output_type": "execute_result"
    }
   ],
   "source": [
    "round (mean_absolute_error(y_test, y_pred_lr),2)"
   ]
  },
  {
   "cell_type": "code",
   "execution_count": 87,
   "id": "c943a64b",
   "metadata": {},
   "outputs": [
    {
     "name": "stdout",
     "output_type": "stream",
     "text": [
      "Accuracy of the model = 10570.79\n"
     ]
    }
   ],
   "source": [
    "print (f'Accuracy of the model = {round (mean_absolute_error(y_test, y_pred_lr),2)}')"
   ]
  },
  {
   "cell_type": "markdown",
   "id": "e4b50f97",
   "metadata": {},
   "source": [
    "### Mean Squared Error"
   ]
  },
  {
   "cell_type": "code",
   "execution_count": 89,
   "id": "dd323643",
   "metadata": {},
   "outputs": [
    {
     "data": {
      "text/plain": [
       "205754135.72"
      ]
     },
     "execution_count": 89,
     "metadata": {},
     "output_type": "execute_result"
    }
   ],
   "source": [
    "mse = round (mean_squared_error(y_test, y_pred_lr),2)\n",
    "mse"
   ]
  },
  {
   "cell_type": "code",
   "execution_count": 91,
   "id": "86196634",
   "metadata": {},
   "outputs": [
    {
     "name": "stdout",
     "output_type": "stream",
     "text": [
      "Mean Squared Error = 10570.79\n"
     ]
    }
   ],
   "source": [
    "print (f\"Mean Squared Error = {round (mean_absolute_error(y_test, y_pred_lr),2)}\" )"
   ]
  },
  {
   "cell_type": "markdown",
   "id": "64b0f54d",
   "metadata": {},
   "source": [
    "### Root Mean Squared Error "
   ]
  },
  {
   "cell_type": "code",
   "execution_count": 92,
   "id": "b216f3dd",
   "metadata": {},
   "outputs": [
    {
     "name": "stdout",
     "output_type": "stream",
     "text": [
      " Root Mean Squared Error (RMSE) =  14344.132449193294\n"
     ]
    }
   ],
   "source": [
    "print (f' Root Mean Squared Error (RMSE) = ', mse**(0.5))"
   ]
  },
  {
   "cell_type": "markdown",
   "id": "b3ed468f",
   "metadata": {},
   "source": [
    "### Coefficients"
   ]
  },
  {
   "cell_type": "code",
   "execution_count": 93,
   "id": "1bf82782",
   "metadata": {},
   "outputs": [
    {
     "data": {
      "text/plain": [
       "array([2.01818940e+04, 7.38907834e+03, 1.54227359e+04, 1.95769562e+01,\n",
       "       1.92043082e+04])"
      ]
     },
     "execution_count": 93,
     "metadata": {},
     "output_type": "execute_result"
    }
   ],
   "source": [
    "Linear_regression_model.coef_"
   ]
  },
  {
   "cell_type": "markdown",
   "id": "84ae81f7",
   "metadata": {},
   "source": [
    "### Intercept"
   ]
  },
  {
   "cell_type": "code",
   "execution_count": 94,
   "id": "11785c10",
   "metadata": {},
   "outputs": [
    {
     "data": {
      "text/plain": [
       "86001.49320553182"
      ]
     },
     "execution_count": 94,
     "metadata": {},
     "output_type": "execute_result"
    }
   ],
   "source": [
    "Linear_regression_model.intercept_"
   ]
  },
  {
   "cell_type": "code",
   "execution_count": 95,
   "id": "4d74a3e6",
   "metadata": {},
   "outputs": [
    {
     "ename": "SyntaxError",
     "evalue": "invalid syntax (3417195249.py, line 1)",
     "output_type": "error",
     "traceback": [
      "\u001b[1;36m  Cell \u001b[1;32mIn[95], line 1\u001b[1;36m\u001b[0m\n\u001b[1;33m    Customise Prediction\u001b[0m\n\u001b[1;37m              ^\u001b[0m\n\u001b[1;31mSyntaxError\u001b[0m\u001b[1;31m:\u001b[0m invalid syntax\n"
     ]
    }
   ],
   "source": [
    "Customise Prediction"
   ]
  },
  {
   "cell_type": "code",
   "execution_count": 96,
   "id": "aadad355",
   "metadata": {},
   "outputs": [
    {
     "data": {
      "text/html": [
       "<div>\n",
       "<style scoped>\n",
       "    .dataframe tbody tr th:only-of-type {\n",
       "        vertical-align: middle;\n",
       "    }\n",
       "\n",
       "    .dataframe tbody tr th {\n",
       "        vertical-align: top;\n",
       "    }\n",
       "\n",
       "    .dataframe thead th {\n",
       "        text-align: right;\n",
       "    }\n",
       "</style>\n",
       "<table border=\"1\" class=\"dataframe\">\n",
       "  <thead>\n",
       "    <tr style=\"text-align: right;\">\n",
       "      <th></th>\n",
       "      <th>Age</th>\n",
       "      <th>Gender</th>\n",
       "      <th>Degree</th>\n",
       "      <th>Job_Title</th>\n",
       "      <th>Experience</th>\n",
       "      <th>Salary</th>\n",
       "      <th>Gender_Encode</th>\n",
       "      <th>Degree_Encode</th>\n",
       "      <th>Job_Title_Encode</th>\n",
       "      <th>Age_scaled</th>\n",
       "      <th>Experience_scaled</th>\n",
       "    </tr>\n",
       "  </thead>\n",
       "  <tbody>\n",
       "    <tr>\n",
       "      <th>0</th>\n",
       "      <td>32.0</td>\n",
       "      <td>Male</td>\n",
       "      <td>Bachelor's</td>\n",
       "      <td>Software Engineer</td>\n",
       "      <td>5.0</td>\n",
       "      <td>90000.0</td>\n",
       "      <td>1</td>\n",
       "      <td>0</td>\n",
       "      <td>159</td>\n",
       "      <td>-0.750231</td>\n",
       "      <td>-0.761821</td>\n",
       "    </tr>\n",
       "    <tr>\n",
       "      <th>1</th>\n",
       "      <td>28.0</td>\n",
       "      <td>Female</td>\n",
       "      <td>Master's</td>\n",
       "      <td>Data Analyst</td>\n",
       "      <td>3.0</td>\n",
       "      <td>65000.0</td>\n",
       "      <td>0</td>\n",
       "      <td>1</td>\n",
       "      <td>17</td>\n",
       "      <td>-1.307742</td>\n",
       "      <td>-1.063017</td>\n",
       "    </tr>\n",
       "    <tr>\n",
       "      <th>2</th>\n",
       "      <td>45.0</td>\n",
       "      <td>Male</td>\n",
       "      <td>PhD</td>\n",
       "      <td>Senior Manager</td>\n",
       "      <td>15.0</td>\n",
       "      <td>150000.0</td>\n",
       "      <td>1</td>\n",
       "      <td>2</td>\n",
       "      <td>130</td>\n",
       "      <td>1.061680</td>\n",
       "      <td>0.744158</td>\n",
       "    </tr>\n",
       "    <tr>\n",
       "      <th>3</th>\n",
       "      <td>36.0</td>\n",
       "      <td>Female</td>\n",
       "      <td>Bachelor's</td>\n",
       "      <td>Sales Associate</td>\n",
       "      <td>7.0</td>\n",
       "      <td>60000.0</td>\n",
       "      <td>0</td>\n",
       "      <td>0</td>\n",
       "      <td>101</td>\n",
       "      <td>-0.192720</td>\n",
       "      <td>-0.460625</td>\n",
       "    </tr>\n",
       "    <tr>\n",
       "      <th>4</th>\n",
       "      <td>52.0</td>\n",
       "      <td>Male</td>\n",
       "      <td>Master's</td>\n",
       "      <td>Director</td>\n",
       "      <td>20.0</td>\n",
       "      <td>200000.0</td>\n",
       "      <td>1</td>\n",
       "      <td>1</td>\n",
       "      <td>22</td>\n",
       "      <td>2.037324</td>\n",
       "      <td>1.497148</td>\n",
       "    </tr>\n",
       "  </tbody>\n",
       "</table>\n",
       "</div>"
      ],
      "text/plain": [
       "    Age  Gender      Degree          Job_Title  Experience    Salary  \\\n",
       "0  32.0    Male  Bachelor's  Software Engineer         5.0   90000.0   \n",
       "1  28.0  Female    Master's       Data Analyst         3.0   65000.0   \n",
       "2  45.0    Male         PhD     Senior Manager        15.0  150000.0   \n",
       "3  36.0  Female  Bachelor's    Sales Associate         7.0   60000.0   \n",
       "4  52.0    Male    Master's           Director        20.0  200000.0   \n",
       "\n",
       "   Gender_Encode  Degree_Encode  Job_Title_Encode  Age_scaled  \\\n",
       "0              1              0               159   -0.750231   \n",
       "1              0              1                17   -1.307742   \n",
       "2              1              2               130    1.061680   \n",
       "3              0              0               101   -0.192720   \n",
       "4              1              1                22    2.037324   \n",
       "\n",
       "   Experience_scaled  \n",
       "0          -0.761821  \n",
       "1          -1.063017  \n",
       "2           0.744158  \n",
       "3          -0.460625  \n",
       "4           1.497148  "
      ]
     },
     "execution_count": 96,
     "metadata": {},
     "output_type": "execute_result"
    }
   ],
   "source": [
    "sal_data1.head()"
   ]
  },
  {
   "cell_type": "code",
   "execution_count": 100,
   "id": "3da4c4ef",
   "metadata": {},
   "outputs": [
    {
     "name": "stderr",
     "output_type": "stream",
     "text": [
      "C:\\Users\\Public\\anaconda3\\Lib\\site-packages\\sklearn\\base.py:439: UserWarning: X does not have valid feature names, but StandardScaler was fitted with feature names\n",
      "  warnings.warn(\n",
      "C:\\Users\\Public\\anaconda3\\Lib\\site-packages\\sklearn\\base.py:439: UserWarning: X does not have valid feature names, but StandardScaler was fitted with feature names\n",
      "  warnings.warn(\n"
     ]
    }
   ],
   "source": [
    "Age1 = std_scaler.transform([[49]])\n",
    "Age = 5.86448677                #scaler value as we have trained the data to tranform into scaler values\n",
    "Gender = 0\n",
    "Degree = 2\n",
    "Job_Title = 22\n",
    "Experience_years1 = std_scaler.transform([[15]])\n",
    "Experience = 0.74415815\n",
    "#find salary?"
   ]
  },
  {
   "cell_type": "code",
   "execution_count": 101,
   "id": "e1195c43",
   "metadata": {},
   "outputs": [
    {
     "name": "stderr",
     "output_type": "stream",
     "text": [
      "C:\\Users\\Public\\anaconda3\\Lib\\site-packages\\sklearn\\base.py:439: UserWarning: X does not have valid feature names, but StandardScaler was fitted with feature names\n",
      "  warnings.warn(\n"
     ]
    },
    {
     "data": {
      "text/plain": [
       "0.7441581452572275"
      ]
     },
     "execution_count": 101,
     "metadata": {},
     "output_type": "execute_result"
    }
   ],
   "source": [
    "std_scaler.transform([[15]])[0][0]"
   ]
  },
  {
   "cell_type": "code",
   "execution_count": 103,
   "id": "baeb450d",
   "metadata": {},
   "outputs": [
    {
     "name": "stderr",
     "output_type": "stream",
     "text": [
      "C:\\Users\\Public\\anaconda3\\Lib\\site-packages\\sklearn\\base.py:439: UserWarning: X does not have valid feature names, but LinearRegression was fitted with feature names\n",
      "  warnings.warn(\n"
     ]
    },
    {
     "data": {
      "text/plain": [
       "array([249925.15061728])"
      ]
     },
     "execution_count": 103,
     "metadata": {},
     "output_type": "execute_result"
    }
   ],
   "source": [
    "Emp_Salary = Linear_regression_model.predict([[Age, Gender, Degree, Job_Title, Experience]])\n",
    "Emp_Salary"
   ]
  },
  {
   "cell_type": "code",
   "execution_count": 105,
   "id": "24fcde15",
   "metadata": {},
   "outputs": [
    {
     "name": "stdout",
     "output_type": "stream",
     "text": [
      "Salary of the employee with the given data = 249925.1506172758\n"
     ]
    }
   ],
   "source": [
    "print (\"Salary of the employee with the given data =\", Emp_Salary [0])"
   ]
  }
 ],
 "metadata": {
  "kernelspec": {
   "display_name": "Python 3 (ipykernel)",
   "language": "python",
   "name": "python3"
  },
  "language_info": {
   "codemirror_mode": {
    "name": "ipython",
    "version": 3
   },
   "file_extension": ".py",
   "mimetype": "text/x-python",
   "name": "python",
   "nbconvert_exporter": "python",
   "pygments_lexer": "ipython3",
   "version": "3.11.3"
  }
 },
 "nbformat": 4,
 "nbformat_minor": 5
}
